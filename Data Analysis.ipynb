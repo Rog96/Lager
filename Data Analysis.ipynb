{
 "cells": [
  {
   "cell_type": "code",
   "execution_count": 3,
   "metadata": {},
   "outputs": [],
   "source": [
    "import pandas as pd\n",
    "import numpy as np\n",
    "from scipy import integrate "
   ]
  },
  {
   "cell_type": "code",
   "execution_count": 4,
   "metadata": {},
   "outputs": [],
   "source": [
    "sample_data = pd.read_csv('Kuehnel_EMG_01.txt',\n",
    "                          sep = \";\",\n",
    "                          decimal = \",\",\n",
    "                         skiprows = 4)"
   ]
  },
  {
   "cell_type": "code",
   "execution_count": 5,
   "metadata": {},
   "outputs": [
    {
     "data": {
      "text/html": [
       "<div>\n",
       "<style scoped>\n",
       "    .dataframe tbody tr th:only-of-type {\n",
       "        vertical-align: middle;\n",
       "    }\n",
       "\n",
       "    .dataframe tbody tr th {\n",
       "        vertical-align: top;\n",
       "    }\n",
       "\n",
       "    .dataframe thead th {\n",
       "        text-align: right;\n",
       "    }\n",
       "</style>\n",
       "<table border=\"1\" class=\"dataframe\">\n",
       "  <thead>\n",
       "    <tr style=\"text-align: right;\">\n",
       "      <th></th>\n",
       "      <th>Time</th>\n",
       "      <th>M_1</th>\n",
       "      <th>M_2</th>\n",
       "      <th>M_3</th>\n",
       "      <th>M_4</th>\n",
       "      <th>M_5</th>\n",
       "      <th>M_6</th>\n",
       "      <th>M_7</th>\n",
       "      <th>ax</th>\n",
       "      <th>Fpaddel</th>\n",
       "      <th>M_8</th>\n",
       "      <th>Sync</th>\n",
       "      <th>marker</th>\n",
       "      <th>markerName</th>\n",
       "    </tr>\n",
       "  </thead>\n",
       "  <tbody>\n",
       "    <tr>\n",
       "      <td>0</td>\n",
       "      <td>0.2840</td>\n",
       "      <td>5.064</td>\n",
       "      <td>-6.190</td>\n",
       "      <td>2.9240</td>\n",
       "      <td>-4.11200</td>\n",
       "      <td>-0.1223</td>\n",
       "      <td>-0.3369</td>\n",
       "      <td>-0.2022</td>\n",
       "      <td>-2.542</td>\n",
       "      <td>1.2120</td>\n",
       "      <td>-0.38940</td>\n",
       "      <td>0</td>\n",
       "      <td>0</td>\n",
       "      <td>NaN</td>\n",
       "    </tr>\n",
       "    <tr>\n",
       "      <td>1</td>\n",
       "      <td>0.2847</td>\n",
       "      <td>9.320</td>\n",
       "      <td>-7.114</td>\n",
       "      <td>3.1890</td>\n",
       "      <td>-4.99900</td>\n",
       "      <td>0.8561</td>\n",
       "      <td>6.0640</td>\n",
       "      <td>-3.2350</td>\n",
       "      <td>-2.424</td>\n",
       "      <td>3.3930</td>\n",
       "      <td>-0.69450</td>\n",
       "      <td>0</td>\n",
       "      <td>0</td>\n",
       "      <td>NaN</td>\n",
       "    </tr>\n",
       "    <tr>\n",
       "      <td>2</td>\n",
       "      <td>0.2853</td>\n",
       "      <td>9.907</td>\n",
       "      <td>-6.837</td>\n",
       "      <td>5.0500</td>\n",
       "      <td>-1.29000</td>\n",
       "      <td>0.8561</td>\n",
       "      <td>8.7600</td>\n",
       "      <td>-4.1440</td>\n",
       "      <td>-2.259</td>\n",
       "      <td>3.1020</td>\n",
       "      <td>-0.08417</td>\n",
       "      <td>0</td>\n",
       "      <td>0</td>\n",
       "      <td>NaN</td>\n",
       "    </tr>\n",
       "    <tr>\n",
       "      <td>3</td>\n",
       "      <td>0.2860</td>\n",
       "      <td>11.740</td>\n",
       "      <td>-6.837</td>\n",
       "      <td>3.5880</td>\n",
       "      <td>0.16120</td>\n",
       "      <td>-1.5900</td>\n",
       "      <td>4.1550</td>\n",
       "      <td>-3.8410</td>\n",
       "      <td>-2.142</td>\n",
       "      <td>2.4720</td>\n",
       "      <td>0.83140</td>\n",
       "      <td>0</td>\n",
       "      <td>0</td>\n",
       "      <td>NaN</td>\n",
       "    </tr>\n",
       "    <tr>\n",
       "      <td>4</td>\n",
       "      <td>0.2867</td>\n",
       "      <td>10.200</td>\n",
       "      <td>-6.560</td>\n",
       "      <td>0.2658</td>\n",
       "      <td>-1.29000</td>\n",
       "      <td>-2.8130</td>\n",
       "      <td>-1.9090</td>\n",
       "      <td>-6.0150</td>\n",
       "      <td>-2.142</td>\n",
       "      <td>3.6840</td>\n",
       "      <td>0.83140</td>\n",
       "      <td>0</td>\n",
       "      <td>0</td>\n",
       "      <td>NaN</td>\n",
       "    </tr>\n",
       "    <tr>\n",
       "      <td>...</td>\n",
       "      <td>...</td>\n",
       "      <td>...</td>\n",
       "      <td>...</td>\n",
       "      <td>...</td>\n",
       "      <td>...</td>\n",
       "      <td>...</td>\n",
       "      <td>...</td>\n",
       "      <td>...</td>\n",
       "      <td>...</td>\n",
       "      <td>...</td>\n",
       "      <td>...</td>\n",
       "      <td>...</td>\n",
       "      <td>...</td>\n",
       "      <td>...</td>\n",
       "    </tr>\n",
       "    <tr>\n",
       "      <td>70309</td>\n",
       "      <td>47.1567</td>\n",
       "      <td>43.230</td>\n",
       "      <td>-215.500</td>\n",
       "      <td>10.9000</td>\n",
       "      <td>-0.08062</td>\n",
       "      <td>-378.5000</td>\n",
       "      <td>19.7700</td>\n",
       "      <td>-216.6000</td>\n",
       "      <td>-188.300</td>\n",
       "      <td>-0.8725</td>\n",
       "      <td>-0.08417</td>\n",
       "      <td>0</td>\n",
       "      <td>0</td>\n",
       "      <td>NaN</td>\n",
       "    </tr>\n",
       "    <tr>\n",
       "      <td>70310</td>\n",
       "      <td>47.1573</td>\n",
       "      <td>35.590</td>\n",
       "      <td>-169.800</td>\n",
       "      <td>22.7200</td>\n",
       "      <td>5.72400</td>\n",
       "      <td>-330.7000</td>\n",
       "      <td>17.9700</td>\n",
       "      <td>-206.8000</td>\n",
       "      <td>-187.200</td>\n",
       "      <td>-2.3750</td>\n",
       "      <td>0.22100</td>\n",
       "      <td>0</td>\n",
       "      <td>0</td>\n",
       "      <td>NaN</td>\n",
       "    </tr>\n",
       "    <tr>\n",
       "      <td>70311</td>\n",
       "      <td>47.1580</td>\n",
       "      <td>27.960</td>\n",
       "      <td>-169.500</td>\n",
       "      <td>35.3500</td>\n",
       "      <td>9.67500</td>\n",
       "      <td>-208.3000</td>\n",
       "      <td>21.9000</td>\n",
       "      <td>-229.4000</td>\n",
       "      <td>-186.000</td>\n",
       "      <td>-2.0840</td>\n",
       "      <td>0.52620</td>\n",
       "      <td>0</td>\n",
       "      <td>0</td>\n",
       "      <td>NaN</td>\n",
       "    </tr>\n",
       "    <tr>\n",
       "      <td>70312</td>\n",
       "      <td>47.1587</td>\n",
       "      <td>22.750</td>\n",
       "      <td>-213.800</td>\n",
       "      <td>36.2800</td>\n",
       "      <td>6.93400</td>\n",
       "      <td>-157.3000</td>\n",
       "      <td>26.1700</td>\n",
       "      <td>-266.3000</td>\n",
       "      <td>-186.000</td>\n",
       "      <td>-0.5816</td>\n",
       "      <td>-0.38940</td>\n",
       "      <td>0</td>\n",
       "      <td>0</td>\n",
       "      <td>NaN</td>\n",
       "    </tr>\n",
       "    <tr>\n",
       "      <td>70313</td>\n",
       "      <td>47.1593</td>\n",
       "      <td>15.710</td>\n",
       "      <td>-205.500</td>\n",
       "      <td>33.7500</td>\n",
       "      <td>4.19200</td>\n",
       "      <td>-227.8000</td>\n",
       "      <td>30.4300</td>\n",
       "      <td>-288.3000</td>\n",
       "      <td>-186.000</td>\n",
       "      <td>-0.5816</td>\n",
       "      <td>-0.69450</td>\n",
       "      <td>0</td>\n",
       "      <td>0</td>\n",
       "      <td>NaN</td>\n",
       "    </tr>\n",
       "  </tbody>\n",
       "</table>\n",
       "<p>70314 rows × 14 columns</p>\n",
       "</div>"
      ],
      "text/plain": [
       "          Time     M_1      M_2      M_3      M_4       M_5      M_6  \\\n",
       "0       0.2840   5.064   -6.190   2.9240 -4.11200   -0.1223  -0.3369   \n",
       "1       0.2847   9.320   -7.114   3.1890 -4.99900    0.8561   6.0640   \n",
       "2       0.2853   9.907   -6.837   5.0500 -1.29000    0.8561   8.7600   \n",
       "3       0.2860  11.740   -6.837   3.5880  0.16120   -1.5900   4.1550   \n",
       "4       0.2867  10.200   -6.560   0.2658 -1.29000   -2.8130  -1.9090   \n",
       "...        ...     ...      ...      ...      ...       ...      ...   \n",
       "70309  47.1567  43.230 -215.500  10.9000 -0.08062 -378.5000  19.7700   \n",
       "70310  47.1573  35.590 -169.800  22.7200  5.72400 -330.7000  17.9700   \n",
       "70311  47.1580  27.960 -169.500  35.3500  9.67500 -208.3000  21.9000   \n",
       "70312  47.1587  22.750 -213.800  36.2800  6.93400 -157.3000  26.1700   \n",
       "70313  47.1593  15.710 -205.500  33.7500  4.19200 -227.8000  30.4300   \n",
       "\n",
       "            M_7       ax  Fpaddel      M_8  Sync  marker markerName  \n",
       "0       -0.2022   -2.542   1.2120 -0.38940     0       0        NaN  \n",
       "1       -3.2350   -2.424   3.3930 -0.69450     0       0        NaN  \n",
       "2       -4.1440   -2.259   3.1020 -0.08417     0       0        NaN  \n",
       "3       -3.8410   -2.142   2.4720  0.83140     0       0        NaN  \n",
       "4       -6.0150   -2.142   3.6840  0.83140     0       0        NaN  \n",
       "...         ...      ...      ...      ...   ...     ...        ...  \n",
       "70309 -216.6000 -188.300  -0.8725 -0.08417     0       0        NaN  \n",
       "70310 -206.8000 -187.200  -2.3750  0.22100     0       0        NaN  \n",
       "70311 -229.4000 -186.000  -2.0840  0.52620     0       0        NaN  \n",
       "70312 -266.3000 -186.000  -0.5816 -0.38940     0       0        NaN  \n",
       "70313 -288.3000 -186.000  -0.5816 -0.69450     0       0        NaN  \n",
       "\n",
       "[70314 rows x 14 columns]"
      ]
     },
     "execution_count": 5,
     "metadata": {},
     "output_type": "execute_result"
    }
   ],
   "source": [
    "sample_data"
   ]
  },
  {
   "cell_type": "code",
   "execution_count": 6,
   "metadata": {},
   "outputs": [
    {
     "data": {
      "text/html": [
       "<div>\n",
       "<style scoped>\n",
       "    .dataframe tbody tr th:only-of-type {\n",
       "        vertical-align: middle;\n",
       "    }\n",
       "\n",
       "    .dataframe tbody tr th {\n",
       "        vertical-align: top;\n",
       "    }\n",
       "\n",
       "    .dataframe thead th {\n",
       "        text-align: right;\n",
       "    }\n",
       "</style>\n",
       "<table border=\"1\" class=\"dataframe\">\n",
       "  <thead>\n",
       "    <tr style=\"text-align: right;\">\n",
       "      <th></th>\n",
       "      <th>Time</th>\n",
       "      <th>M_1</th>\n",
       "      <th>M_2</th>\n",
       "      <th>M_3</th>\n",
       "      <th>M_4</th>\n",
       "      <th>M_5</th>\n",
       "      <th>M_6</th>\n",
       "      <th>M_7</th>\n",
       "      <th>ax</th>\n",
       "      <th>Fpaddel</th>\n",
       "      <th>M_8</th>\n",
       "      <th>Sync</th>\n",
       "      <th>marker</th>\n",
       "    </tr>\n",
       "  </thead>\n",
       "  <tbody>\n",
       "    <tr>\n",
       "      <td>count</td>\n",
       "      <td>70314.000000</td>\n",
       "      <td>70314.000000</td>\n",
       "      <td>70314.000000</td>\n",
       "      <td>70314.000000</td>\n",
       "      <td>70314.000000</td>\n",
       "      <td>70314.000000</td>\n",
       "      <td>70314.000000</td>\n",
       "      <td>70314.000000</td>\n",
       "      <td>70314.000000</td>\n",
       "      <td>70314.000000</td>\n",
       "      <td>70314.000000</td>\n",
       "      <td>70314.000000</td>\n",
       "      <td>70314.000000</td>\n",
       "    </tr>\n",
       "    <tr>\n",
       "      <td>mean</td>\n",
       "      <td>23.721667</td>\n",
       "      <td>-0.478891</td>\n",
       "      <td>-0.484522</td>\n",
       "      <td>-0.434031</td>\n",
       "      <td>-0.674049</td>\n",
       "      <td>-0.350346</td>\n",
       "      <td>-0.634214</td>\n",
       "      <td>-0.235903</td>\n",
       "      <td>-4.980140</td>\n",
       "      <td>7.174664</td>\n",
       "      <td>0.005609</td>\n",
       "      <td>0.001038</td>\n",
       "      <td>0.007978</td>\n",
       "    </tr>\n",
       "    <tr>\n",
       "      <td>std</td>\n",
       "      <td>13.532032</td>\n",
       "      <td>315.529825</td>\n",
       "      <td>261.028043</td>\n",
       "      <td>250.021190</td>\n",
       "      <td>262.319820</td>\n",
       "      <td>453.023410</td>\n",
       "      <td>244.872901</td>\n",
       "      <td>187.173635</td>\n",
       "      <td>289.792569</td>\n",
       "      <td>16.529174</td>\n",
       "      <td>0.363743</td>\n",
       "      <td>0.032205</td>\n",
       "      <td>0.422049</td>\n",
       "    </tr>\n",
       "    <tr>\n",
       "      <td>min</td>\n",
       "      <td>0.284000</td>\n",
       "      <td>-2405.000000</td>\n",
       "      <td>-2104.000000</td>\n",
       "      <td>-4354.000000</td>\n",
       "      <td>-2642.000000</td>\n",
       "      <td>-4007.000000</td>\n",
       "      <td>-3273.000000</td>\n",
       "      <td>-1656.000000</td>\n",
       "      <td>-748.700000</td>\n",
       "      <td>-394.500000</td>\n",
       "      <td>-1.305000</td>\n",
       "      <td>0.000000</td>\n",
       "      <td>0.000000</td>\n",
       "    </tr>\n",
       "    <tr>\n",
       "      <td>25%</td>\n",
       "      <td>12.002850</td>\n",
       "      <td>-29.430000</td>\n",
       "      <td>-79.180000</td>\n",
       "      <td>-24.450000</td>\n",
       "      <td>-28.780000</td>\n",
       "      <td>-61.760000</td>\n",
       "      <td>-22.350000</td>\n",
       "      <td>-44.120000</td>\n",
       "      <td>-186.600000</td>\n",
       "      <td>-0.872500</td>\n",
       "      <td>-0.389400</td>\n",
       "      <td>0.000000</td>\n",
       "      <td>0.000000</td>\n",
       "    </tr>\n",
       "    <tr>\n",
       "      <td>50%</td>\n",
       "      <td>23.721650</td>\n",
       "      <td>-1.394000</td>\n",
       "      <td>-6.560000</td>\n",
       "      <td>1.993000</td>\n",
       "      <td>0.806200</td>\n",
       "      <td>-0.122300</td>\n",
       "      <td>0.561500</td>\n",
       "      <td>-0.505400</td>\n",
       "      <td>-0.423600</td>\n",
       "      <td>0.920900</td>\n",
       "      <td>-0.084170</td>\n",
       "      <td>0.000000</td>\n",
       "      <td>0.000000</td>\n",
       "    </tr>\n",
       "    <tr>\n",
       "      <td>75%</td>\n",
       "      <td>35.440525</td>\n",
       "      <td>20.620000</td>\n",
       "      <td>34.370000</td>\n",
       "      <td>44.120000</td>\n",
       "      <td>31.600000</td>\n",
       "      <td>63.350000</td>\n",
       "      <td>28.860000</td>\n",
       "      <td>49.230000</td>\n",
       "      <td>175.200000</td>\n",
       "      <td>18.030000</td>\n",
       "      <td>0.221000</td>\n",
       "      <td>0.000000</td>\n",
       "      <td>0.000000</td>\n",
       "    </tr>\n",
       "    <tr>\n",
       "      <td>max</td>\n",
       "      <td>47.159300</td>\n",
       "      <td>2367.000000</td>\n",
       "      <td>3027.000000</td>\n",
       "      <td>3164.000000</td>\n",
       "      <td>2532.000000</td>\n",
       "      <td>3510.000000</td>\n",
       "      <td>3680.000000</td>\n",
       "      <td>1361.000000</td>\n",
       "      <td>771.100000</td>\n",
       "      <td>1588.000000</td>\n",
       "      <td>1.442000</td>\n",
       "      <td>1.000000</td>\n",
       "      <td>33.000000</td>\n",
       "    </tr>\n",
       "  </tbody>\n",
       "</table>\n",
       "</div>"
      ],
      "text/plain": [
       "               Time           M_1           M_2           M_3           M_4  \\\n",
       "count  70314.000000  70314.000000  70314.000000  70314.000000  70314.000000   \n",
       "mean      23.721667     -0.478891     -0.484522     -0.434031     -0.674049   \n",
       "std       13.532032    315.529825    261.028043    250.021190    262.319820   \n",
       "min        0.284000  -2405.000000  -2104.000000  -4354.000000  -2642.000000   \n",
       "25%       12.002850    -29.430000    -79.180000    -24.450000    -28.780000   \n",
       "50%       23.721650     -1.394000     -6.560000      1.993000      0.806200   \n",
       "75%       35.440525     20.620000     34.370000     44.120000     31.600000   \n",
       "max       47.159300   2367.000000   3027.000000   3164.000000   2532.000000   \n",
       "\n",
       "                M_5           M_6           M_7            ax       Fpaddel  \\\n",
       "count  70314.000000  70314.000000  70314.000000  70314.000000  70314.000000   \n",
       "mean      -0.350346     -0.634214     -0.235903     -4.980140      7.174664   \n",
       "std      453.023410    244.872901    187.173635    289.792569     16.529174   \n",
       "min    -4007.000000  -3273.000000  -1656.000000   -748.700000   -394.500000   \n",
       "25%      -61.760000    -22.350000    -44.120000   -186.600000     -0.872500   \n",
       "50%       -0.122300      0.561500     -0.505400     -0.423600      0.920900   \n",
       "75%       63.350000     28.860000     49.230000    175.200000     18.030000   \n",
       "max     3510.000000   3680.000000   1361.000000    771.100000   1588.000000   \n",
       "\n",
       "                M_8          Sync        marker  \n",
       "count  70314.000000  70314.000000  70314.000000  \n",
       "mean       0.005609      0.001038      0.007978  \n",
       "std        0.363743      0.032205      0.422049  \n",
       "min       -1.305000      0.000000      0.000000  \n",
       "25%       -0.389400      0.000000      0.000000  \n",
       "50%       -0.084170      0.000000      0.000000  \n",
       "75%        0.221000      0.000000      0.000000  \n",
       "max        1.442000      1.000000     33.000000  "
      ]
     },
     "execution_count": 6,
     "metadata": {},
     "output_type": "execute_result"
    }
   ],
   "source": [
    "sample_data.describe()"
   ]
  },
  {
   "cell_type": "code",
   "execution_count": 7,
   "metadata": {},
   "outputs": [],
   "source": [
    "import matplotlib.pyplot as plt\n",
    "%matplotlib inline"
   ]
  },
  {
   "cell_type": "code",
   "execution_count": 8,
   "metadata": {},
   "outputs": [],
   "source": [
    "M_1 = sample_data.M_1\n",
    "M_2 = sample_data.M_2\n",
    "M_3 = sample_data.M_3\n",
    "M_4 = sample_data.M_4\n",
    "M_5 = sample_data.M_5\n",
    "M_6 = sample_data.M_6\n",
    "M_7 = sample_data.M_7\n",
    "\n",
    "Time = sample_data.Time\n",
    "Fpaddel = sample_data.Fpaddel"
   ]
  },
  {
   "cell_type": "code",
   "execution_count": 237,
   "metadata": {},
   "outputs": [
    {
     "ename": "TypeError",
     "evalue": "'RangeIndex' object is not callable",
     "output_type": "error",
     "traceback": [
      "\u001b[1;31m---------------------------------------------------------------------------\u001b[0m",
      "\u001b[1;31mTypeError\u001b[0m                                 Traceback (most recent call last)",
      "\u001b[1;32m<ipython-input-237-971f12f8c139>\u001b[0m in \u001b[0;36m<module>\u001b[1;34m\u001b[0m\n\u001b[0;32m      1\u001b[0m \u001b[0ml\u001b[0m \u001b[1;33m=\u001b[0m \u001b[1;36m0\u001b[0m\u001b[1;33m\u001b[0m\u001b[1;33m\u001b[0m\u001b[0m\n\u001b[0;32m      2\u001b[0m \u001b[1;32mfor\u001b[0m \u001b[0mi\u001b[0m \u001b[1;32min\u001b[0m \u001b[0mn\u001b[0m\u001b[1;33m:\u001b[0m\u001b[1;33m\u001b[0m\u001b[1;33m\u001b[0m\u001b[0m\n\u001b[1;32m----> 3\u001b[1;33m     \u001b[0mn\u001b[0m \u001b[1;33m=\u001b[0m \u001b[0msample_data\u001b[0m\u001b[1;33m[\u001b[0m\u001b[0mindex\u001b[0m \u001b[1;33m(\u001b[0m\u001b[0mi\u001b[0m\u001b[1;33m+\u001b[0m\u001b[1;36m1\u001b[0m\u001b[1;33m)\u001b[0m\u001b[1;33m,\u001b[0m\u001b[0mcolumns\u001b[0m\u001b[1;33m(\u001b[0m\u001b[1;36m2\u001b[0m\u001b[1;33m,\u001b[0m\u001b[1;36m7\u001b[0m\u001b[1;33m)\u001b[0m\u001b[1;33m]\u001b[0m\u001b[1;33m\u001b[0m\u001b[1;33m\u001b[0m\u001b[0m\n\u001b[0m\u001b[0;32m      4\u001b[0m     \u001b[0mplt\u001b[0m\u001b[1;33m.\u001b[0m\u001b[0msubplot\u001b[0m\u001b[1;33m(\u001b[0m\u001b[1;36m7\u001b[0m\u001b[1;33m,\u001b[0m\u001b[1;36m1\u001b[0m\u001b[1;33m,\u001b[0m\u001b[0ml\u001b[0m\u001b[1;33m+\u001b[0m\u001b[1;36m1\u001b[0m\u001b[1;33m)\u001b[0m\u001b[1;33m\u001b[0m\u001b[1;33m\u001b[0m\u001b[0m\n\u001b[0;32m      5\u001b[0m     \u001b[0mplt\u001b[0m\u001b[1;33m.\u001b[0m\u001b[0mplot\u001b[0m \u001b[1;33m(\u001b[0m\u001b[0mTime\u001b[0m\u001b[1;33m,\u001b[0m \u001b[0mn\u001b[0m\u001b[1;33m)\u001b[0m\u001b[1;33m\u001b[0m\u001b[1;33m\u001b[0m\u001b[0m\n",
      "\u001b[1;31mTypeError\u001b[0m: 'RangeIndex' object is not callable"
     ]
    }
   ],
   "source": [
    "l = 0\n",
    "for i in n:\n",
    "    n = sample_data[index (i+1),columns(2,7)]\n",
    "    plt.subplot(7,1,l+1)\n",
    "    plt.plot (Time, n)\n",
    "plt.show()"
   ]
  },
  {
   "cell_type": "code",
   "execution_count": 9,
   "metadata": {},
   "outputs": [
    {
     "data": {
      "image/png": "[encoded data removed]",
      "text/plain": [
       "<Figure size 432x288 with 7 Axes>"
      ]
     },
     "metadata": {
      "needs_background": "light"
     },
     "output_type": "display_data"
    }
   ],
   "source": [
    "plt.subplot (7, 1, 1)\n",
    "plt.plot(Time, M_1)\n",
    "plt.ylabel ('M1')\n",
    "\n",
    "plt.subplot (7, 1, 2)\n",
    "plt.plot (Time, M_2)\n",
    "plt.ylabel ('M2')\n",
    "\n",
    "plt.subplot (7, 1, 3)\n",
    "plt.plot (Time, M_3)\n",
    "plt.ylabel ('M3')\n",
    "\n",
    "plt.subplot (7, 1, 4)\n",
    "plt.plot (Time, M_4)\n",
    "plt.ylabel ('M4')\n",
    "\n",
    "plt.subplot (7, 1, 5)\n",
    "plt.plot (Time, M_5)\n",
    "plt.ylabel ('M5')\n",
    "\n",
    "plt.subplot (7, 1, 6)\n",
    "plt.plot (Time, M_6)\n",
    "plt.ylabel ('M6')\n",
    "\n",
    "plt.subplot (7, 1, 7)\n",
    "plt.plot (Time, M_7)\n",
    "plt.ylabel ('M7')\n",
    "\n",
    "plt.xlabel ('Time')\n",
    "plt.show()"
   ]
  },
  {
   "cell_type": "code",
   "execution_count": 10,
   "metadata": {},
   "outputs": [],
   "source": [
    "btrg1 = abs(M_1)\n",
    "btrg2 = abs(M_2)\n",
    "btrg3 = abs(M_3)\n",
    "btrg4 = abs(M_4)\n",
    "btrg5 = abs(M_5)\n",
    "btrg6 = abs(M_6)\n",
    "btrg7 = abs(M_7)\n"
   ]
  },
  {
   "cell_type": "code",
   "execution_count": 11,
   "metadata": {},
   "outputs": [
    {
     "data": {
      "image/png": "[encoded data removed]",
      "text/plain": [
       "<Figure size 432x288 with 7 Axes>"
      ]
     },
     "metadata": {
      "needs_background": "light"
     },
     "output_type": "display_data"
    }
   ],
   "source": [
    "plt.subplot (7, 1, 1)\n",
    "plt.plot(Time, btrg1)\n",
    "plt.ylabel ('M1')\n",
    "\n",
    "plt.subplot (7, 1, 2)\n",
    "plt.plot (Time, btrg2)\n",
    "plt.ylabel ('M2')\n",
    "\n",
    "plt.subplot (7, 1, 3)\n",
    "plt.plot (Time, btrg3)\n",
    "plt.ylabel ('M3')\n",
    "\n",
    "plt.subplot (7, 1, 4)\n",
    "plt.plot (Time, btrg4)\n",
    "plt.ylabel ('M4')\n",
    "\n",
    "plt.subplot (7, 1, 5)\n",
    "plt.plot (Time, btrg5)\n",
    "plt.ylabel ('M5')\n",
    "\n",
    "plt.subplot (7, 1, 6)\n",
    "plt.plot (Time, btrg6)\n",
    "plt.ylabel ('M6')\n",
    "\n",
    "plt.subplot (7, 1, 7)\n",
    "plt.plot (Time, btrg7)\n",
    "plt.ylabel ('M7')\n",
    "\n",
    "\n",
    "plt.xlabel ('Time')\n",
    "\n",
    "plt.show()"
   ]
  },
  {
   "cell_type": "code",
   "execution_count": 12,
   "metadata": {},
   "outputs": [],
   "source": [
    "btrg1sum = sum (btrg1)/len(btrg1)"
   ]
  },
  {
   "cell_type": "code",
   "execution_count": 13,
   "metadata": {},
   "outputs": [
    {
     "name": "stdout",
     "output_type": "stream",
     "text": [
      "152.53638751458112\n"
     ]
    }
   ],
   "source": [
    "print(btrg1sum)"
   ]
  },
  {
   "cell_type": "code",
   "execution_count": 14,
   "metadata": {},
   "outputs": [],
   "source": [
    "offsetM1 = sum (M_1) / len(M_1)"
   ]
  },
  {
   "cell_type": "code",
   "execution_count": 15,
   "metadata": {},
   "outputs": [
    {
     "name": "stdout",
     "output_type": "stream",
     "text": [
      "-0.4788908737946948\n"
     ]
    }
   ],
   "source": [
    "print (offsetM1)"
   ]
  },
  {
   "cell_type": "code",
   "execution_count": 16,
   "metadata": {},
   "outputs": [],
   "source": [
    "corM1 = M_1 - offsetM1 "
   ]
  },
  {
   "cell_type": "code",
   "execution_count": 17,
   "metadata": {},
   "outputs": [
    {
     "data": {
      "text/plain": [
       "70314"
      ]
     },
     "execution_count": 17,
     "metadata": {},
     "output_type": "execute_result"
    }
   ],
   "source": [
    "len(M_1)"
   ]
  },
  {
   "cell_type": "code",
   "execution_count": 18,
   "metadata": {},
   "outputs": [
    {
     "data": {
      "text/plain": [
       "10725443.551700257"
      ]
     },
     "execution_count": 18,
     "metadata": {},
     "output_type": "execute_result"
    }
   ],
   "source": [
    "sum (abs(M_1))"
   ]
  },
  {
   "cell_type": "code",
   "execution_count": 19,
   "metadata": {},
   "outputs": [
    {
     "name": "stdout",
     "output_type": "stream",
     "text": [
      "7.566834492948247e-16\n"
     ]
    }
   ],
   "source": [
    "print (sum (corM1) / len(corM1))"
   ]
  },
  {
   "cell_type": "code",
   "execution_count": 20,
   "metadata": {},
   "outputs": [
    {
     "data": {
      "text/plain": [
       "-0.4788908737946948"
      ]
     },
     "execution_count": 20,
     "metadata": {},
     "output_type": "execute_result"
    }
   ],
   "source": [
    "M_1.mean()"
   ]
  },
  {
   "cell_type": "code",
   "execution_count": 21,
   "metadata": {},
   "outputs": [
    {
     "data": {
      "text/plain": [
       "315.5298249261905"
      ]
     },
     "execution_count": 21,
     "metadata": {},
     "output_type": "execute_result"
    }
   ],
   "source": [
    "M_1.std()"
   ]
  },
  {
   "cell_type": "code",
   "execution_count": 22,
   "metadata": {},
   "outputs": [],
   "source": [
    "#Daten Graph 2 "
   ]
  },
  {
   "cell_type": "code",
   "execution_count": 23,
   "metadata": {},
   "outputs": [],
   "source": [
    "btrg2sum = sum (btrg2) / len (btrg2)"
   ]
  },
  {
   "cell_type": "code",
   "execution_count": 24,
   "metadata": {},
   "outputs": [
    {
     "name": "stdout",
     "output_type": "stream",
     "text": [
      "138.95433771268716\n"
     ]
    }
   ],
   "source": [
    "print (btrg2sum)"
   ]
  },
  {
   "cell_type": "code",
   "execution_count": 25,
   "metadata": {},
   "outputs": [
    {
     "data": {
      "text/plain": [
       "-0.48452165898684885"
      ]
     },
     "execution_count": 25,
     "metadata": {},
     "output_type": "execute_result"
    }
   ],
   "source": [
    "M_2.mean()"
   ]
  },
  {
   "cell_type": "code",
   "execution_count": 26,
   "metadata": {},
   "outputs": [
    {
     "data": {
      "text/plain": [
       "261.0280430150403"
      ]
     },
     "execution_count": 26,
     "metadata": {},
     "output_type": "execute_result"
    }
   ],
   "source": [
    "M_2.std()"
   ]
  },
  {
   "cell_type": "code",
   "execution_count": 27,
   "metadata": {},
   "outputs": [],
   "source": [
    "offsetM2 = sum (M_2) / len(M_2)"
   ]
  },
  {
   "cell_type": "code",
   "execution_count": 28,
   "metadata": {},
   "outputs": [
    {
     "name": "stdout",
     "output_type": "stream",
     "text": [
      "-0.48452165898684885\n"
     ]
    }
   ],
   "source": [
    "print (offsetM2)"
   ]
  },
  {
   "cell_type": "code",
   "execution_count": 29,
   "metadata": {},
   "outputs": [],
   "source": [
    "corM2 = M_2 - offsetM2"
   ]
  },
  {
   "cell_type": "code",
   "execution_count": 30,
   "metadata": {},
   "outputs": [
    {
     "name": "stdout",
     "output_type": "stream",
     "text": [
      "1.9245305762727133e-14\n"
     ]
    }
   ],
   "source": [
    "print (sum (corM2) / len(corM2))"
   ]
  },
  {
   "cell_type": "code",
   "execution_count": 31,
   "metadata": {},
   "outputs": [],
   "source": [
    "# Daten Graph 3"
   ]
  },
  {
   "cell_type": "code",
   "execution_count": 32,
   "metadata": {},
   "outputs": [],
   "source": [
    "btrg3sum = sum (btrg3) / len (btrg3)"
   ]
  },
  {
   "cell_type": "code",
   "execution_count": 33,
   "metadata": {},
   "outputs": [
    {
     "name": "stdout",
     "output_type": "stream",
     "text": [
      "106.57556193645637\n"
     ]
    }
   ],
   "source": [
    "print (btrg3sum)"
   ]
  },
  {
   "cell_type": "code",
   "execution_count": 34,
   "metadata": {},
   "outputs": [
    {
     "data": {
      "text/plain": [
       "-0.43403114600220455"
      ]
     },
     "execution_count": 34,
     "metadata": {},
     "output_type": "execute_result"
    }
   ],
   "source": [
    "M_3.mean()"
   ]
  },
  {
   "cell_type": "code",
   "execution_count": 35,
   "metadata": {},
   "outputs": [
    {
     "data": {
      "text/plain": [
       "250.02119032203316"
      ]
     },
     "execution_count": 35,
     "metadata": {},
     "output_type": "execute_result"
    }
   ],
   "source": [
    "M_3.std()"
   ]
  },
  {
   "cell_type": "code",
   "execution_count": 36,
   "metadata": {},
   "outputs": [],
   "source": [
    "offsetM3 = sum (M_3) / len (M_3)"
   ]
  },
  {
   "cell_type": "code",
   "execution_count": 37,
   "metadata": {},
   "outputs": [
    {
     "name": "stdout",
     "output_type": "stream",
     "text": [
      "-0.43403114600220455\n"
     ]
    }
   ],
   "source": [
    "print (offsetM3)"
   ]
  },
  {
   "cell_type": "code",
   "execution_count": 38,
   "metadata": {},
   "outputs": [],
   "source": [
    "corM3 = M_3 - offsetM3"
   ]
  },
  {
   "cell_type": "code",
   "execution_count": 39,
   "metadata": {},
   "outputs": [
    {
     "name": "stdout",
     "output_type": "stream",
     "text": [
      "-1.4227629481839684e-14\n"
     ]
    }
   ],
   "source": [
    "print (sum(corM3)/ len(corM3))"
   ]
  },
  {
   "cell_type": "code",
   "execution_count": 40,
   "metadata": {},
   "outputs": [],
   "source": [
    "# Daten Graph 4"
   ]
  },
  {
   "cell_type": "code",
   "execution_count": 41,
   "metadata": {},
   "outputs": [],
   "source": [
    "btrg4sum = sum (btrg4) / len (btrg4)"
   ]
  },
  {
   "cell_type": "code",
   "execution_count": 42,
   "metadata": {},
   "outputs": [
    {
     "name": "stdout",
     "output_type": "stream",
     "text": [
      "124.01383981341013\n"
     ]
    }
   ],
   "source": [
    "print (btrg4sum)"
   ]
  },
  {
   "cell_type": "code",
   "execution_count": 43,
   "metadata": {},
   "outputs": [
    {
     "data": {
      "text/plain": [
       "-0.6740487333959383"
      ]
     },
     "execution_count": 43,
     "metadata": {},
     "output_type": "execute_result"
    }
   ],
   "source": [
    "M_4.mean()"
   ]
  },
  {
   "cell_type": "code",
   "execution_count": 44,
   "metadata": {},
   "outputs": [
    {
     "data": {
      "text/plain": [
       "262.3198202920476"
      ]
     },
     "execution_count": 44,
     "metadata": {},
     "output_type": "execute_result"
    }
   ],
   "source": [
    "M_4.std()"
   ]
  },
  {
   "cell_type": "code",
   "execution_count": 45,
   "metadata": {},
   "outputs": [],
   "source": [
    "offsetM4 = sum (M_4) / len (M_4)"
   ]
  },
  {
   "cell_type": "code",
   "execution_count": 46,
   "metadata": {},
   "outputs": [
    {
     "name": "stdout",
     "output_type": "stream",
     "text": [
      "-0.6740487333959383\n"
     ]
    }
   ],
   "source": [
    "print (offsetM4)"
   ]
  },
  {
   "cell_type": "code",
   "execution_count": 47,
   "metadata": {},
   "outputs": [],
   "source": [
    "corM4 = M_4 - offsetM4"
   ]
  },
  {
   "cell_type": "code",
   "execution_count": 48,
   "metadata": {},
   "outputs": [
    {
     "name": "stdout",
     "output_type": "stream",
     "text": [
      "2.332413827076406e-14\n"
     ]
    }
   ],
   "source": [
    "print (sum(corM4)/ len(corM4))"
   ]
  },
  {
   "cell_type": "code",
   "execution_count": 49,
   "metadata": {},
   "outputs": [],
   "source": [
    "# Daten Graph 5"
   ]
  },
  {
   "cell_type": "code",
   "execution_count": 50,
   "metadata": {},
   "outputs": [],
   "source": [
    "btrg5sum = sum (btrg5) / len (btrg5)"
   ]
  },
  {
   "cell_type": "code",
   "execution_count": 51,
   "metadata": {},
   "outputs": [
    {
     "name": "stdout",
     "output_type": "stream",
     "text": [
      "232.5348803993613\n"
     ]
    }
   ],
   "source": [
    "print (btrg5sum)"
   ]
  },
  {
   "cell_type": "code",
   "execution_count": 52,
   "metadata": {},
   "outputs": [
    {
     "data": {
      "text/plain": [
       "-0.3503464886082385"
      ]
     },
     "execution_count": 52,
     "metadata": {},
     "output_type": "execute_result"
    }
   ],
   "source": [
    "M_5.mean()"
   ]
  },
  {
   "cell_type": "code",
   "execution_count": 53,
   "metadata": {},
   "outputs": [
    {
     "data": {
      "text/plain": [
       "453.02341047025095"
      ]
     },
     "execution_count": 53,
     "metadata": {},
     "output_type": "execute_result"
    }
   ],
   "source": [
    "M_5.std()"
   ]
  },
  {
   "cell_type": "code",
   "execution_count": 54,
   "metadata": {},
   "outputs": [],
   "source": [
    "offsetM5 = sum (M_5) / len (M_5)"
   ]
  },
  {
   "cell_type": "code",
   "execution_count": 55,
   "metadata": {},
   "outputs": [
    {
     "name": "stdout",
     "output_type": "stream",
     "text": [
      "-0.3503464886082385\n"
     ]
    }
   ],
   "source": [
    "print (offsetM5)"
   ]
  },
  {
   "cell_type": "code",
   "execution_count": 56,
   "metadata": {},
   "outputs": [],
   "source": [
    "corM5 = M_5 - offsetM5"
   ]
  },
  {
   "cell_type": "code",
   "execution_count": 57,
   "metadata": {},
   "outputs": [
    {
     "name": "stdout",
     "output_type": "stream",
     "text": [
      "-9.768168929304878e-15\n"
     ]
    }
   ],
   "source": [
    "print (sum (corM5)/ len (corM5))"
   ]
  },
  {
   "cell_type": "code",
   "execution_count": 58,
   "metadata": {},
   "outputs": [],
   "source": [
    "# Daten Graph 6"
   ]
  },
  {
   "cell_type": "code",
   "execution_count": 59,
   "metadata": {},
   "outputs": [],
   "source": [
    "btrg6sum = sum(btrg6) / len(btrg6)"
   ]
  },
  {
   "cell_type": "code",
   "execution_count": 60,
   "metadata": {},
   "outputs": [
    {
     "name": "stdout",
     "output_type": "stream",
     "text": [
      "102.69217728617501\n"
     ]
    }
   ],
   "source": [
    "print (btrg6sum)"
   ]
  },
  {
   "cell_type": "code",
   "execution_count": 61,
   "metadata": {},
   "outputs": [
    {
     "data": {
      "text/plain": [
       "-0.634213847882349"
      ]
     },
     "execution_count": 61,
     "metadata": {},
     "output_type": "execute_result"
    }
   ],
   "source": [
    "M_6.mean()"
   ]
  },
  {
   "cell_type": "code",
   "execution_count": 62,
   "metadata": {},
   "outputs": [
    {
     "data": {
      "text/plain": [
       "244.87290113981"
      ]
     },
     "execution_count": 62,
     "metadata": {},
     "output_type": "execute_result"
    }
   ],
   "source": [
    "M_6.std()"
   ]
  },
  {
   "cell_type": "code",
   "execution_count": 63,
   "metadata": {},
   "outputs": [],
   "source": [
    "offsetM6 = sum (M_6) / len (M_6)"
   ]
  },
  {
   "cell_type": "code",
   "execution_count": 64,
   "metadata": {},
   "outputs": [
    {
     "name": "stdout",
     "output_type": "stream",
     "text": [
      "-0.634213847882349\n"
     ]
    }
   ],
   "source": [
    "print(offsetM6)"
   ]
  },
  {
   "cell_type": "code",
   "execution_count": 65,
   "metadata": {},
   "outputs": [],
   "source": [
    "corM6 = M_6 - offsetM6"
   ]
  },
  {
   "cell_type": "code",
   "execution_count": 66,
   "metadata": {},
   "outputs": [
    {
     "name": "stdout",
     "output_type": "stream",
     "text": [
      "-6.798631023191401e-15\n"
     ]
    }
   ],
   "source": [
    "print (sum (corM6) / len (corM6))"
   ]
  },
  {
   "cell_type": "code",
   "execution_count": 67,
   "metadata": {},
   "outputs": [],
   "source": [
    "# Daten Graph 7"
   ]
  },
  {
   "cell_type": "code",
   "execution_count": 68,
   "metadata": {},
   "outputs": [],
   "source": [
    "btrg7sum = sum(btrg7) / len(btrg7)"
   ]
  },
  {
   "cell_type": "code",
   "execution_count": 69,
   "metadata": {},
   "outputs": [
    {
     "name": "stdout",
     "output_type": "stream",
     "text": [
      "106.61654467958004\n"
     ]
    }
   ],
   "source": [
    "print (btrg7sum)"
   ]
  },
  {
   "cell_type": "code",
   "execution_count": 70,
   "metadata": {},
   "outputs": [
    {
     "data": {
      "text/plain": [
       "-0.23590306055693347"
      ]
     },
     "execution_count": 70,
     "metadata": {},
     "output_type": "execute_result"
    }
   ],
   "source": [
    "M_7.mean()"
   ]
  },
  {
   "cell_type": "code",
   "execution_count": 71,
   "metadata": {},
   "outputs": [
    {
     "data": {
      "text/plain": [
       "187.17363466817656"
      ]
     },
     "execution_count": 71,
     "metadata": {},
     "output_type": "execute_result"
    }
   ],
   "source": [
    "M_7.std()"
   ]
  },
  {
   "cell_type": "code",
   "execution_count": 72,
   "metadata": {},
   "outputs": [],
   "source": [
    "offsetM7 = sum (M_7) / len (M_7)"
   ]
  },
  {
   "cell_type": "code",
   "execution_count": 73,
   "metadata": {},
   "outputs": [
    {
     "name": "stdout",
     "output_type": "stream",
     "text": [
      "-0.23590306055693347\n"
     ]
    }
   ],
   "source": [
    "print (offsetM7)"
   ]
  },
  {
   "cell_type": "code",
   "execution_count": 74,
   "metadata": {},
   "outputs": [],
   "source": [
    "corM7 = M_7 - offsetM7"
   ]
  },
  {
   "cell_type": "code",
   "execution_count": 75,
   "metadata": {},
   "outputs": [
    {
     "name": "stdout",
     "output_type": "stream",
     "text": [
      "2.181123874142561e-15\n"
     ]
    }
   ],
   "source": [
    "print (sum (corM7) / len (corM7))"
   ]
  },
  {
   "cell_type": "code",
   "execution_count": 76,
   "metadata": {},
   "outputs": [
    {
     "data": {
      "text/plain": [
       "<function matplotlib.pyplot.show(*args, **kw)>"
      ]
     },
     "execution_count": 76,
     "metadata": {},
     "output_type": "execute_result"
    },
    {
     "data": {
      "image/png": "[encoded data removed]",
      "text/plain": [
       "<Figure size 432x288 with 1 Axes>"
      ]
     },
     "metadata": {
      "needs_background": "light"
     },
     "output_type": "display_data"
    }
   ],
   "source": [
    "plt.plot (Time, Fpaddel)\n",
    "plt.xlim (0 , 48)\n",
    "plt.ylim (-10, 45)\n",
    "\n",
    "\n",
    "plt.xlabel ('Time')\n",
    "plt.ylabel ('Fpaddel')\n",
    "plt.title ('F-t Diagramm')\n",
    "plt.show"
   ]
  },
  {
   "cell_type": "code",
   "execution_count": 77,
   "metadata": {},
   "outputs": [],
   "source": [
    "# Berechnung Integral unter F-t-Diagramm"
   ]
  },
  {
   "cell_type": "code",
   "execution_count": 78,
   "metadata": {},
   "outputs": [
    {
     "data": {
      "text/plain": [
       "70314"
      ]
     },
     "execution_count": 78,
     "metadata": {},
     "output_type": "execute_result"
    }
   ],
   "source": [
    "len(Time)"
   ]
  },
  {
   "cell_type": "code",
   "execution_count": 79,
   "metadata": {},
   "outputs": [
    {
     "name": "stdout",
     "output_type": "stream",
     "text": [
      "117279642029.51004\n"
     ]
    }
   ],
   "source": [
    "k = (len (Time) -1) * sum (Time) \n",
    "#(70314 -1) da 70313 gültige Datenwerte und nicht 70314\n",
    "print (k)"
   ]
  },
  {
   "cell_type": "code",
   "execution_count": 80,
   "metadata": {},
   "outputs": [
    {
     "name": "stdout",
     "output_type": "stream",
     "text": [
      "0         0.2840\n",
      "1         0.2847\n",
      "2         0.2853\n",
      "3         0.2860\n",
      "4         0.2867\n",
      "          ...   \n",
      "70309    47.1567\n",
      "70310    47.1573\n",
      "70311    47.1580\n",
      "70312    47.1587\n",
      "70313    47.1593\n",
      "Name: Time, Length: 70314, dtype: float64\n"
     ]
    }
   ],
   "source": [
    "print (Time)"
   ]
  },
  {
   "cell_type": "code",
   "execution_count": 81,
   "metadata": {},
   "outputs": [
    {
     "name": "stdout",
     "output_type": "stream",
     "text": [
      "0        1.2120\n",
      "1        3.3930\n",
      "2        3.1020\n",
      "3        2.4720\n",
      "4        3.6840\n",
      "          ...  \n",
      "70309   -0.8725\n",
      "70310   -2.3750\n",
      "70311   -2.0840\n",
      "70312   -0.5816\n",
      "70313   -0.5816\n",
      "Name: Fpaddel, Length: 70314, dtype: float64\n"
     ]
    }
   ],
   "source": [
    "print (Fpaddel)"
   ]
  },
  {
   "cell_type": "code",
   "execution_count": 82,
   "metadata": {},
   "outputs": [],
   "source": [
    "index = sample_data.index\n",
    "columns = sample_data.columns"
   ]
  },
  {
   "cell_type": "code",
   "execution_count": 83,
   "metadata": {},
   "outputs": [],
   "source": [
    "# Bestimmung von Einzelwerten - Formelrelevanz "
   ]
  },
  {
   "cell_type": "code",
   "execution_count": 84,
   "metadata": {},
   "outputs": [
    {
     "name": "stdout",
     "output_type": "stream",
     "text": [
      "0.284\n"
     ]
    }
   ],
   "source": [
    "a = sample_data.at[index[0],columns[0]]\n",
    "print (a)\n",
    "# Startwert"
   ]
  },
  {
   "cell_type": "code",
   "execution_count": 85,
   "metadata": {},
   "outputs": [
    {
     "data": {
      "text/plain": [
       "70314"
      ]
     },
     "execution_count": 85,
     "metadata": {},
     "output_type": "execute_result"
    }
   ],
   "source": [
    "len (index)"
   ]
  },
  {
   "cell_type": "code",
   "execution_count": 86,
   "metadata": {},
   "outputs": [],
   "source": [
    "N = len (index) -1"
   ]
  },
  {
   "cell_type": "code",
   "execution_count": 87,
   "metadata": {},
   "outputs": [
    {
     "name": "stdout",
     "output_type": "stream",
     "text": [
      "47.1593\n"
     ]
    }
   ],
   "source": [
    "b = sample_data.at[index[70313],columns[0]]\n",
    "print (b)"
   ]
  },
  {
   "cell_type": "code",
   "execution_count": 88,
   "metadata": {},
   "outputs": [
    {
     "name": "stdout",
     "output_type": "stream",
     "text": [
      "1.212\n"
     ]
    }
   ],
   "source": [
    "y1 = sample_data.at[index[0],columns[9]]\n",
    "print (y1)"
   ]
  },
  {
   "cell_type": "code",
   "execution_count": 89,
   "metadata": {},
   "outputs": [
    {
     "name": "stdout",
     "output_type": "stream",
     "text": [
      "3.3930000000000002\n"
     ]
    }
   ],
   "source": [
    "y2 = sample_data.at[index[1],columns[9]]\n",
    "print (y2)"
   ]
  },
  {
   "cell_type": "code",
   "execution_count": 90,
   "metadata": {},
   "outputs": [
    {
     "name": "stdout",
     "output_type": "stream",
     "text": [
      "0.2847\n"
     ]
    }
   ],
   "source": [
    "x1 = sample_data.at [index[1], columns[0]]\n",
    "print (x1)"
   ]
  },
  {
   "cell_type": "code",
   "execution_count": 91,
   "metadata": {},
   "outputs": [
    {
     "name": "stdout",
     "output_type": "stream",
     "text": [
      "0.0006666661925959638\n"
     ]
    }
   ],
   "source": [
    "h = (b - a) / N\n",
    "print (h)"
   ]
  },
  {
   "cell_type": "code",
   "execution_count": 92,
   "metadata": {},
   "outputs": [
    {
     "name": "stdout",
     "output_type": "stream",
     "text": [
      "0.0013454323765875445\n"
     ]
    }
   ],
   "source": [
    "trapez1 = (((y1 - a )+ (y2 - x1)) / 2) * h\n",
    "# ((y1 + y2) /2) * h\n",
    "print (trapez1)"
   ]
  },
  {
   "cell_type": "code",
   "execution_count": 93,
   "metadata": {},
   "outputs": [],
   "source": [
    "temp =0\n",
    "h =1/1500\n",
    "for i in range (1,N-1): \n",
    "    temp= temp+((sample_data.at[index[i],columns[9]] + sample_data.at[index[i+1],columns[9]]) /2) * h\n",
    "    "
   ]
  },
  {
   "cell_type": "code",
   "execution_count": 94,
   "metadata": {},
   "outputs": [
    {
     "name": "stdout",
     "output_type": "stream",
     "text": [
      "336.318214226683\n"
     ]
    }
   ],
   "source": [
    "print (temp) #Wert des Integrals "
   ]
  },
  {
   "cell_type": "code",
   "execution_count": 95,
   "metadata": {},
   "outputs": [],
   "source": [
    "from scipy.signal import find_peaks \n",
    "import matplotlib.pyplot as plt\n"
   ]
  },
  {
   "cell_type": "code",
   "execution_count": 326,
   "metadata": {},
   "outputs": [
    {
     "name": "stdout",
     "output_type": "stream",
     "text": [
      "[3 4 3 ... 4 4 5]\n"
     ]
    },
    {
     "data": {
      "image/png": "[encoded data removed]",
      "text/plain": [
       "<Figure size 432x288 with 1 Axes>"
      ]
     },
     "metadata": {
      "needs_background": "light"
     },
     "output_type": "display_data"
    }
   ],
   "source": [
    "plt.plot (Time, Fpaddel)\n",
    "\n",
    "y = Fpaddel\n",
    "x = Time\n",
    "\n",
    "peaks, properties = find_peaks(y, prominence=(None, 10))\n",
    "properties[\"prominences\"].max()\n",
    "plt.plot(y)\n",
    "plt.plot(peaks, y[peaks], \"x\", color= \"black\")\n",
    "plt.plot(np.zeros_like (y), \"--\", color=\"yellow\")\n",
    "\n",
    "print(np.diff(peaks))\n",
    "\n",
    "#Unterteilung der Peaks \n",
    "plt.hlines(2, xmin= 0, xmax= 48)\n",
    "\n",
    "plt.vlines (4.4, ymin=-10, ymax = 37)\n",
    "plt.vlines (6, ymin =-10, ymax = 37)\n",
    "plt.vlines (7.5, ymin =-10, ymax = 37)\n",
    "plt.vlines (9, ymin =-10, ymax = 37)\n",
    "plt.vlines (10.3, ymin =-10, ymax = 37)\n",
    "plt.vlines (11.6, ymin =-10, ymax = 37)\n",
    "plt.vlines (12.7, ymin =-10, ymax = 37)\n",
    "plt.vlines (14, ymin =-10, ymax = 37)\n",
    "plt.vlines (15.3, ymin =-10, ymax = 37)\n",
    "plt.vlines (16.7, ymin =-10, ymax = 37)\n",
    "plt.vlines (18, ymin =-10, ymax = 37)\n",
    "plt.vlines (19.3, ymin =-10, ymax = 37)\n",
    "plt.vlines (20.55, ymin =-10, ymax = 37)\n",
    "plt.vlines (21.8, ymin =-10, ymax = 37)\n",
    "plt.vlines (23, ymin =-10, ymax = 37)\n",
    "plt.vlines (24.5, ymin =-10, ymax = 37)\n",
    "plt.vlines (25.6, ymin =-10, ymax = 37)\n",
    "plt.vlines (26.85, ymin =-10, ymax = 37)\n",
    "plt.vlines (28, ymin =-10, ymax = 37)\n",
    "plt.vlines (29.4, ymin =-10, ymax = 37)\n",
    "plt.vlines (30.7, ymin =-10, ymax = 37)\n",
    "plt.vlines (32, ymin =-10, ymax = 37)\n",
    "plt.vlines (33.3, ymin =-10, ymax = 37)\n",
    "plt.vlines (34.6, ymin =-10, ymax = 37)\n",
    "plt.vlines (35.8, ymin =-10, ymax = 37)\n",
    "plt.vlines (37.1, ymin =-10, ymax = 37)\n",
    "plt.vlines (38.4, ymin =-10, ymax = 37)\n",
    "plt.vlines (39.7, ymin =-10, ymax = 37)\n",
    "plt.vlines (40.9, ymin =-10, ymax = 37)\n",
    "plt.vlines (42.15, ymin =-10, ymax = 37)\n",
    "plt.vlines (43.5, ymin =-10, ymax = 37)\n",
    "plt.vlines (44.7, ymin =-10, ymax = 37)\n",
    "plt.vlines (45.85, ymin =-10, ymax = 37)\n",
    "plt.vlines (47.1, ymin =-10, ymax = 37)\n",
    "\n",
    "\n",
    "\n",
    "\n",
    "\n",
    "plt.xlim (0 , 48)\n",
    "plt.ylim (-10, 40)\n",
    "\n",
    "\n",
    "plt.xlabel ('Time')\n",
    "plt.ylabel ('Fpaddel')\n",
    "plt.title ('F-t Diagramm')\n",
    "\n",
    "plt.show ()"
   ]
  },
  {
   "cell_type": "code",
   "execution_count": 210,
   "metadata": {},
   "outputs": [
    {
     "name": "stdout",
     "output_type": "stream",
     "text": [
      "6190    4.4107\n",
      "6191    4.4113\n",
      "6192    4.4120\n",
      "6193    4.4127\n",
      "6194    4.4133\n",
      "         ...  \n",
      "8575    6.0007\n",
      "8576    6.0013\n",
      "8577    6.0020\n",
      "8578    6.0027\n",
      "8579    6.0033\n",
      "Name: Time, Length: 2390, dtype: float64\n"
     ]
    }
   ],
   "source": [
    "width_peak1 = Time [6190:8580]\n",
    "print (width_peak1)"
   ]
  },
  {
   "cell_type": "code",
   "execution_count": 211,
   "metadata": {},
   "outputs": [
    {
     "name": "stdout",
     "output_type": "stream",
     "text": [
      "5.2\n"
     ]
    }
   ],
   "source": [
    "mean = (4.4+6)/2 #Mittelwert der Breite von Peak 1 \n",
    "print (mean)"
   ]
  },
  {
   "cell_type": "code",
   "execution_count": 217,
   "metadata": {},
   "outputs": [
    {
     "name": "stdout",
     "output_type": "stream",
     "text": [
      "8580     6.0040\n",
      "8581     6.0047\n",
      "8582     6.0053\n",
      "8583     6.0060\n",
      "8584     6.0067\n",
      "          ...  \n",
      "10835    7.5073\n",
      "10836    7.5080\n",
      "10837    7.5087\n",
      "10838    7.5093\n",
      "10839    7.5100\n",
      "Name: Time, Length: 2260, dtype: float64\n"
     ]
    }
   ],
   "source": [
    "width_peak2 = Time [8580:10840]\n",
    "print (width_peak2)"
   ]
  },
  {
   "cell_type": "code",
   "execution_count": 218,
   "metadata": {},
   "outputs": [
    {
     "name": "stdout",
     "output_type": "stream",
     "text": [
      "6.75\n"
     ]
    }
   ],
   "source": [
    "mean = (6+7.5)/2\n",
    "print (mean)"
   ]
  },
  {
   "cell_type": "code",
   "execution_count": null,
   "metadata": {},
   "outputs": [],
   "source": []
  },
  {
   "cell_type": "code",
   "execution_count": 101,
   "metadata": {},
   "outputs": [
    {
     "name": "stdout",
     "output_type": "stream",
     "text": [
      "6350   -0.5816\n",
      "6351    0.3393\n",
      "6352   -1.1630\n",
      "6353   -1.1630\n",
      "6354   -0.5816\n",
      "         ...  \n",
      "8445   -0.5816\n",
      "8446    0.3393\n",
      "8447    0.3393\n",
      "8448   -0.5816\n",
      "8449   -0.8725\n",
      "Name: Fpaddel, Length: 2100, dtype: float64\n"
     ]
    }
   ],
   "source": [
    "height_peak1 = Fpaddel [6350:8450]\n",
    "print (height_peak1)"
   ]
  },
  {
   "cell_type": "code",
   "execution_count": 102,
   "metadata": {},
   "outputs": [
    {
     "name": "stdout",
     "output_type": "stream",
     "text": [
      "18778.506449999993\n"
     ]
    }
   ],
   "source": [
    "Summe = sum (height_peak1)\n",
    "print (Summe)"
   ]
  },
  {
   "cell_type": "code",
   "execution_count": 103,
   "metadata": {},
   "outputs": [
    {
     "name": "stdout",
     "output_type": "stream",
     "text": [
      "-0.5816\n"
     ]
    }
   ],
   "source": [
    "n = columns[9]\n",
    "for n in Fpaddel:\n",
    "    n < 35 \n",
    "print (n)"
   ]
  },
  {
   "cell_type": "code",
   "execution_count": 104,
   "metadata": {},
   "outputs": [
    {
     "name": "stdout",
     "output_type": "stream",
     "text": [
      "[0.75719222 0.82148526 0.7431587  0.47371128 0.18521672 0.48983208\n",
      " 0.00624944 0.361023   0.55542621 0.97566387 0.50313649 0.00509527]\n",
      "------------------------------\n",
      "[ True  True  True  True  True  True  True  True  True  True  True  True]\n",
      "------------------------------\n",
      "[5. 5. 5. 5. 5. 5. 5. 5. 5. 5. 5. 5.]\n"
     ]
    },
    {
     "data": {
      "text/plain": [
       "(-10, 40)"
      ]
     },
     "execution_count": 104,
     "metadata": {},
     "output_type": "execute_result"
    },
    {
     "data": {
      "image/png": "[encoded data removed]",
      "text/plain": [
       "<Figure size 432x288 with 1 Axes>"
      ]
     },
     "metadata": {
      "needs_background": "light"
     },
     "output_type": "display_data"
    }
   ],
   "source": [
    "\n",
    "\n",
    "\n",
    "threshold = 5\n",
    "a = np.random.random(12)\n",
    "print (a)\n",
    "print (\"-\"*30)\n",
    "indexarray = a < threshold\n",
    "print (indexarray)\n",
    "print (\"-\"*30)\n",
    "a[indexarray] = threshold\n",
    "print (a)\n",
    "\n",
    "plt.xlim (0 , 48)\n",
    "plt.ylim (-10, 40)"
   ]
  },
  {
   "cell_type": "code",
   "execution_count": 107,
   "metadata": {},
   "outputs": [
    {
     "ename": "SyntaxError",
     "evalue": "invalid syntax (<ipython-input-107-42fcde14ff87>, line 11)",
     "output_type": "error",
     "traceback": [
      "\u001b[1;36m  File \u001b[1;32m\"<ipython-input-107-42fcde14ff87>\"\u001b[1;36m, line \u001b[1;32m11\u001b[0m\n\u001b[1;33m    if i\u001b[0m\n\u001b[1;37m         ^\u001b[0m\n\u001b[1;31mSyntaxError\u001b[0m\u001b[1;31m:\u001b[0m invalid syntax\n"
     ]
    }
   ],
   "source": [
    "peak_top = 0\n",
    "x = Time \n",
    "for i in x:\n",
    "    if i > peak_top:\n",
    "        peak_top = i\n",
    "    \n",
    "print (i)\n",
    "\n",
    "peaks_width = 5\n",
    "for i in range(np.diff(peaks)):\n",
    "\n",
    "    \n",
    "threshold = np.linspace (0, 48)"
   ]
  },
  {
   "cell_type": "code",
   "execution_count": null,
   "metadata": {},
   "outputs": [],
   "source": [
    "Breite = np.array.sample_data.Fpaddel (2,35)\n",
    "print (Breite)"
   ]
  },
  {
   "cell_type": "code",
   "execution_count": 314,
   "metadata": {},
   "outputs": [],
   "source": [
    "mond=[0 for i in Fpaddel -10]\n",
    "for i in range (1,len(Fpaddel)):\n",
    "    if Fpaddel [i] > 10 and Fpaddel[i+10]<15:\n",
    "        mond[i] = 1\n"
   ]
  },
  {
   "cell_type": "code",
   "execution_count": 315,
   "metadata": {
    "scrolled": true
   },
   "outputs": [
    {
     "data": {
      "image/png": "[encoded data removed]",
      "text/plain": [
       "<Figure size 432x288 with 1 Axes>"
      ]
     },
     "metadata": {
      "needs_background": "light"
     },
     "output_type": "display_data"
    }
   ],
   "source": [
    "plt.plot (mond)\n",
    "plt.show()"
   ]
  },
  {
   "cell_type": "code",
   "execution_count": 251,
   "metadata": {},
   "outputs": [
    {
     "data": {
      "text/plain": [
       "70314"
      ]
     },
     "execution_count": 251,
     "metadata": {},
     "output_type": "execute_result"
    }
   ],
   "source": [
    "len (Fpadddel)"
   ]
  },
  {
   "cell_type": "code",
   "execution_count": 319,
   "metadata": {},
   "outputs": [],
   "source": [
    "fpaddelFil=Fpaddel.rolling(window=200).mean()"
   ]
  },
  {
   "cell_type": "code",
   "execution_count": 320,
   "metadata": {},
   "outputs": [
    {
     "data": {
      "image/png": "[encoded data removed]",
      "text/plain": [
       "<Figure size 432x288 with 1 Axes>"
      ]
     },
     "metadata": {
      "needs_background": "light"
     },
     "output_type": "display_data"
    }
   ],
   "source": [
    "plt.plot (fpaddelFil)\n",
    "plt.show()"
   ]
  },
  {
   "cell_type": "code",
   "execution_count": 321,
   "metadata": {},
   "outputs": [],
   "source": [
    "stern=[0 for i in fpaddelFil -10]\n",
    "for i in range (1,len(fpaddelFil)):\n",
    "    if fpaddelFil [i] > 10 and fpaddelFil[i+10]<15:\n",
    "        stern[i] = 1"
   ]
  },
  {
   "cell_type": "code",
   "execution_count": 324,
   "metadata": {},
   "outputs": [
    {
     "data": {
      "image/png": "[encoded data removed]",
      "text/plain": [
       "<Figure size 432x288 with 1 Axes>"
      ]
     },
     "metadata": {
      "needs_background": "light"
     },
     "output_type": "display_data"
    }
   ],
   "source": [
    "plt.plot(fpaddelFil)\n",
    "plt.plot (stern)\n",
    "plt.show()"
   ]
  }
 ],
 "metadata": {
  "kernelspec": {
   "display_name": "Python 3",
   "language": "python",
   "name": "python3"
  },
  "language_info": {
   "codemirror_mode": {
    "name": "ipython",
    "version": 3
   },
   "file_extension": ".py",
   "mimetype": "text/x-python",
   "name": "python",
   "nbconvert_exporter": "python",
   "pygments_lexer": "ipython3",
   "version": "3.7.4"
  }
 },
 "nbformat": 4,
 "nbformat_minor": 2
}
